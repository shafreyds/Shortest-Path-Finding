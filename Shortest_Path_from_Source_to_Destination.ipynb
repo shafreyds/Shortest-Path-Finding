{
  "nbformat": 4,
  "nbformat_minor": 0,
  "metadata": {
    "colab": {
      "provenance": []
    },
    "kernelspec": {
      "name": "python3",
      "display_name": "Python 3"
    },
    "language_info": {
      "name": "python"
    }
  },
  "cells": [
    {
      "cell_type": "code",
      "execution_count": 2,
      "metadata": {
        "colab": {
          "base_uri": "https://localhost:8080/"
        },
        "id": "VO0sVSwq7BbO",
        "outputId": "bcf53dee-9d04-4a79-ef59-68217eda34f1"
      },
      "outputs": [
        {
          "output_type": "stream",
          "name": "stdout",
          "text": [
            "The shortest path is [(0, 0), (0, 4), (5, 4), (5, 2), (5, 7), (5, 9), (9, 9)]\n"
          ]
        }
      ],
      "source": [
        "from collections import deque\n",
        "\n",
        "class Node:\n",
        "\n",
        "    def __init__(self, x, y, parent=None):\n",
        "        self.x = x\n",
        "        self.y = y\n",
        "        self.parent = parent\n",
        "\n",
        "    def __repr__(self):\n",
        "        return str((self.x, self.y))\n",
        "\n",
        "    def __eq__(self, other):\n",
        "        return self.x == other.x and self.y == other.y\n",
        "\n",
        "row = [-1, 0, 0, 1]\n",
        "col = [0, -1, 1, 0]\n",
        "\n",
        "def isValid(x, y, N):\n",
        "    return (0 <= x < N) and (0 <= y < N)\n",
        "\n",
        "def getPath(node, path=[]):\n",
        "    if node:\n",
        "        getPath(node.parent, path)\n",
        "        path.append(node)\n",
        "\n",
        "def findPath(matrix, x=0, y=0):\n",
        "    if not matrix or not len(matrix):\n",
        "        return\n",
        "\n",
        "    N = len(matrix)\n",
        "\n",
        "    q = deque()\n",
        "    src = Node(x, y)\n",
        "    q.append(src)\n",
        "\n",
        "    visited = set()\n",
        "\n",
        "    key = (src.x, src.y)\n",
        "    visited.add(key)\n",
        "\n",
        "    while q:\n",
        "\n",
        "        curr = q.popleft()\n",
        "        i = curr.x\n",
        "        j = curr.y\n",
        "\n",
        "        if i == N - 1 and j == N - 1:\n",
        "            path = []\n",
        "            getPath(curr, path)\n",
        "            return path\n",
        "\n",
        "        n = matrix[i][j]\n",
        "\n",
        "        for k in range(len(row)):\n",
        "            x = i + row[k] * n\n",
        "            y = j + col[k] * n\n",
        "\n",
        "            if isValid(x, y, N):\n",
        "                next = Node(x, y, curr)\n",
        "                key = (next.x, next.y)\n",
        "\n",
        "                if key not in visited:\n",
        "                    q.append(next)\n",
        "                    visited.add(key)\n",
        "\n",
        "    return\n",
        "\n",
        "\n",
        "if __name__ == '__main__':\n",
        "\n",
        "    matrix = [\n",
        "        [4, 4, 6, 5, 5, 1, 1, 1, 7, 4],\n",
        "        [3, 6, 2, 4, 6, 5, 7, 2, 6, 6],\n",
        "        [1, 3, 6, 1, 1, 1, 7, 1, 4, 5],\n",
        "        [7, 5, 6, 3, 1, 3, 3, 1, 1, 7],\n",
        "        [3, 4, 6, 4, 7, 2, 6, 5, 4, 4],\n",
        "        [3, 2, 5, 1, 2, 5, 1, 2, 3, 4],\n",
        "        [4, 2, 2, 2, 5, 2, 3, 7, 7, 3],\n",
        "        [7, 2, 4, 3, 5, 2, 2, 3, 6, 3],\n",
        "        [5, 1, 4, 2, 6, 4, 6, 7, 3, 7],\n",
        "        [1, 4, 1, 7, 5, 3, 6, 5, 3, 4]\n",
        "    ]\n",
        "\n",
        "    path = findPath(matrix)\n",
        "\n",
        "    if path:\n",
        "        print('The shortest path is', path)\n",
        "    else:\n",
        "        print('Destination is not found')"
      ]
    },
    {
      "cell_type": "code",
      "source": [],
      "metadata": {
        "id": "NWSyahcu7d-N"
      },
      "execution_count": null,
      "outputs": []
    }
  ]
}